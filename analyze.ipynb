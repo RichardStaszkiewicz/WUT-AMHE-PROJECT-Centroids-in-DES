{
 "cells": [
  {
   "cell_type": "markdown",
   "metadata": {},
   "source": [
    "# AMHE Centroid Influence\n",
    "\n",
    "__Richard Staszkiewicz__\n",
    "\n",
    "__Igor Matynia__"
   ]
  },
  {
   "cell_type": "markdown",
   "metadata": {},
   "source": [
    "The notebook is supposed to be run on Google Collaboratory. It explores the influence the different centroid counting has on the DES algorithm performnnce. The algorithm is faced with an optimization problem of the chosen benchmark functions accessed with curtasy of [Axel Thevenot](https://github.com/AxelThevenot/Python_Benchmark_Test_Optimization_Function_Single_Objective)."
   ]
  },
  {
   "cell_type": "code",
   "execution_count": null,
   "metadata": {},
   "outputs": [],
   "source": [
    "!https://github.com/AxelThevenot/Python_Benchmark_Test_Optimization_Function_Single_Objective.git"
   ]
  }
 ],
 "metadata": {
  "language_info": {
   "name": "python"
  }
 },
 "nbformat": 4,
 "nbformat_minor": 2
}
