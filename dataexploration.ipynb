{
 "cells": [
  {
   "cell_type": "code",
   "execution_count": 1,
   "metadata": {},
   "outputs": [],
   "source": [
    "from modules.result_loader import RelevantDataProcessor, RelevantDataStatistics\n",
    "from modules.default_config import get_default_config"
   ]
  },
  {
   "cell_type": "code",
   "execution_count": 2,
   "metadata": {},
   "outputs": [
    {
     "name": "stdout",
     "output_type": "stream",
     "text": [
      "Config prepared, n_experiments=2550\n"
     ]
    }
   ],
   "source": [
    "config = get_default_config()\n",
    "PROCESSED_RESULTS_FOLDER = \"/media/imat/Samsung_T5/AMHE/results/results\"\n",
    "processor = RelevantDataProcessor(PROCESSED_RESULTS_FOLDER, config.experiments)\n",
    "# processor.extract_and_save_relevant_data(\"graphdata.npy\") # Reads 15 GB of data"
   ]
  },
  {
   "cell_type": "code",
   "execution_count": 3,
   "metadata": {},
   "outputs": [],
   "source": [
    "data = processor.load_prepared_relevant_data(\"graphdata.npy\")\n",
    "stats = RelevantDataStatistics(data)"
   ]
  },
  {
   "cell_type": "code",
   "execution_count": 16,
   "metadata": {},
   "outputs": [
    {
     "data": {
      "text/plain": [
       "[(1.558373629843637e-07, 'interquartile_centroid'),\n",
       " (2.3626673087282503e-07, 'median_centroid'),\n",
       " (2.028534743525134e-06, 'vanila_centroid'),\n",
       " (3.0171737244782484e-06, 'mean_centroid'),\n",
       " (0.00013187260497268604, 'windsor_centroid')]"
      ]
     },
     "execution_count": 16,
     "metadata": {},
     "output_type": "execute_result"
    }
   ],
   "source": [
    "s = stats.get_centroids_for_each_function_sorted_by(\"avg_min_value\")\n",
    "s[list(s.keys())[-5]][10]"
   ]
  }
 ],
 "metadata": {
  "kernelspec": {
   "display_name": "bowel",
   "language": "python",
   "name": "python3"
  },
  "language_info": {
   "codemirror_mode": {
    "name": "ipython",
    "version": 3
   },
   "file_extension": ".py",
   "mimetype": "text/x-python",
   "name": "python",
   "nbconvert_exporter": "python",
   "pygments_lexer": "ipython3",
   "version": "3.10.8"
  }
 },
 "nbformat": 4,
 "nbformat_minor": 2
}
