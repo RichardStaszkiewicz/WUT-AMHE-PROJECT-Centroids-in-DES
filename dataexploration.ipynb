{
 "cells": [
  {
   "cell_type": "code",
   "execution_count": 2,
   "metadata": {},
   "outputs": [
    {
     "name": "stderr",
     "output_type": "stream",
     "text": [
      "/home/richard/.local/lib/python3.10/site-packages/matplotlib/projections/__init__.py:63: UserWarning: Unable to import Axes3D. This may be due to multiple versions of Matplotlib being installed (e.g. as a system package and as a pip package). As a result, the 3D projection is not available.\n",
      "  warnings.warn(\"Unable to import Axes3D. This may be due to multiple versions of \"\n"
     ]
    }
   ],
   "source": [
    "from modules.result_loader import RelevantDataProcessor, RelevantDataStatistics\n",
    "from modules.default_config import get_default_config\n",
    "import numpy as np"
   ]
  },
  {
   "cell_type": "code",
   "execution_count": 3,
   "metadata": {},
   "outputs": [
    {
     "name": "stdout",
     "output_type": "stream",
     "text": [
      "Config prepared, n_experiments=2550\n"
     ]
    }
   ],
   "source": [
    "config = get_default_config()\n",
    "PROCESSED_RESULTS_FOLDER = \"./results\"\n",
    "processor = RelevantDataProcessor(PROCESSED_RESULTS_FOLDER, config.experiments)\n",
    "#processor.extract_and_save_relevant_data(\"graphdata.npy\") # Reads 15 GB of data\n",
    "\n",
    "### relevant data dict:\n",
    "### all_stats:\n",
    "###     (centroid name, function name, dimensionality)\n",
    "###         count_at_min_value\n",
    "###         total_min_value\n",
    "###         avg_count\n",
    "###         avg_min_value\n",
    "###         best_vals_avg\n",
    "###         best_vals_std\n"
   ]
  },
  {
   "cell_type": "code",
   "execution_count": 4,
   "metadata": {},
   "outputs": [],
   "source": [
    "data = processor.load_prepared_relevant_data(\"graphdata.npy\")\n",
    "stats = RelevantDataStatistics(data)\n",
    "#stats.generate_convergence_curves_for_fc_x_dim(save=\"./results/graphics/convergence\")"
   ]
  },
  {
   "cell_type": "code",
   "execution_count": 15,
   "metadata": {},
   "outputs": [],
   "source": [
    "from modules.centroids import ALL_CENTROIDS\n",
    "def normalized_ranking(data, fc_weights=None, dim_weights=None, evalfc=None):\n",
    "    if fc_weights is None:\n",
    "        fc_weights = {x: 1 for x in data.keys()}\n",
    "    if dim_weights is None:\n",
    "        dim_weights = {10: 1, 50: 1, 100: 1}\n",
    "\n",
    "    results = {x.__qualname__: 0 for x in ALL_CENTROIDS}\n",
    "    step = 1 / (len(ALL_CENTROIDS) - 1)\n",
    "    for f in data.keys():\n",
    "        for dim in data[f].keys():\n",
    "            i = 0\n",
    "            for x in data[f][dim]:\n",
    "                results[x[1]] += fc_weights[f] * dim_weights[dim] * i\n",
    "                i += step\n",
    "    return results"
   ]
  },
  {
   "cell_type": "code",
   "execution_count": 16,
   "metadata": {},
   "outputs": [
    {
     "data": {
      "text/plain": [
       "{'vanila_centroid': 51.75,\n",
       " 'mean_centroid': 37.75,\n",
       " 'median_centroid': 85.0,\n",
       " 'interquartile_centroid': 50.5,\n",
       " 'windsor_centroid': 30.0}"
      ]
     },
     "execution_count": 16,
     "metadata": {},
     "output_type": "execute_result"
    }
   ],
   "source": [
    "s = stats.get_centroids_for_each_function_sorted_by(\"avg_min_value\")\n",
    "normalized_ranking(s)"
   ]
  }
 ],
 "metadata": {
  "kernelspec": {
   "display_name": "bowel",
   "language": "python",
   "name": "python3"
  },
  "language_info": {
   "codemirror_mode": {
    "name": "ipython",
    "version": 3
   },
   "file_extension": ".py",
   "mimetype": "text/x-python",
   "name": "python",
   "nbconvert_exporter": "python",
   "pygments_lexer": "ipython3",
   "version": "3.10.13"
  }
 },
 "nbformat": 4,
 "nbformat_minor": 2
}
