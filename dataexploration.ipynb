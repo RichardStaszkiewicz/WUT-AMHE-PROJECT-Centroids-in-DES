{
 "cells": [
  {
   "cell_type": "code",
   "execution_count": 47,
   "metadata": {},
   "outputs": [],
   "source": [
    "from modules.result_loader import RelevantDataProcessor, RelevantDataStatistics\n",
    "from modules.default_config import get_default_config\n",
    "import numpy as np"
   ]
  },
  {
   "cell_type": "code",
   "execution_count": 48,
   "metadata": {},
   "outputs": [
    {
     "name": "stdout",
     "output_type": "stream",
     "text": [
      "Config prepared, n_experiments=2550\n"
     ]
    }
   ],
   "source": [
    "config = get_default_config()\n",
    "PROCESSED_RESULTS_FOLDER = \"./results\"\n",
    "processor = RelevantDataProcessor(PROCESSED_RESULTS_FOLDER, config.experiments)\n",
    "#processor.extract_and_save_relevant_data(\"graphdata.npy\") # Reads 15 GB of data\n",
    "\n",
    "### relevant data dict:\n",
    "### all_stats:\n",
    "###     (centroid name, function name, dimensionality)\n",
    "###         count_at_min_value\n",
    "###         total_min_value\n",
    "###         avg_count\n",
    "###         avg_min_value\n",
    "###         best_vals_avg\n",
    "###         best_vals_std\n"
   ]
  },
  {
   "cell_type": "code",
   "execution_count": 49,
   "metadata": {},
   "outputs": [],
   "source": [
    "data = processor.load_prepared_relevant_data(\"graphdata.npy\")\n",
    "stats = RelevantDataStatistics(data)\n",
    "#stats.generate_convergence_curves_for_fc_x_dim(save=\"./results/graphics/convergence\")"
   ]
  },
  {
   "cell_type": "code",
   "execution_count": 50,
   "metadata": {},
   "outputs": [],
   "source": [
    "from modules.centroids import ALL_CENTROIDS\n",
    "def normalized_ranking(data, fc_weights=None, dim_weights=None, evalfc=None):\n",
    "    if fc_weights is None:\n",
    "        fc_weights = {x: 1 for x in data.keys()}\n",
    "    if dim_weights is None:\n",
    "        dim_weights = {10: 1, 50: 1, 100: 1}\n",
    "\n",
    "    results = {x.__qualname__: 0 for x in ALL_CENTROIDS}\n",
    "    step = 1 / (len(ALL_CENTROIDS) - 1)\n",
    "    for f in data.keys():\n",
    "        for dim in data[f].keys():\n",
    "            i = 0\n",
    "            for x in data[f][dim]:\n",
    "                results[x[1]] += fc_weights[f] * dim_weights[dim] * i\n",
    "                i += step\n",
    "    return results"
   ]
  },
  {
   "cell_type": "code",
   "execution_count": 51,
   "metadata": {},
   "outputs": [],
   "source": [
    "s = stats.get_centroids_for_each_function_sorted_by(\"avg_min_value\")"
   ]
  },
  {
   "cell_type": "code",
   "execution_count": 52,
   "metadata": {},
   "outputs": [
    {
     "data": {
      "text/plain": [
       "{'vanila_centroid': 12.25,\n",
       " 'mean_centroid': 17.25,\n",
       " 'median_centroid': 25.0,\n",
       " 'interquartile_centroid': 15.25,\n",
       " 'windsor_centroid': 15.25}"
      ]
     },
     "execution_count": 52,
     "metadata": {},
     "output_type": "execute_result"
    }
   ],
   "source": [
    "normalized_ranking(s, dim_weights={10: 1, 50: 0, 100: 0})"
   ]
  },
  {
   "cell_type": "code",
   "execution_count": 78,
   "metadata": {},
   "outputs": [],
   "source": [
    "import pandas as pd\n",
    "fun = pd.DataFrame({'fun_name': ['Init'], 'vanila_centroid': [0], 'mean_centroid': [0], 'median_centroid': [0], 'interquartile_centroid': [0], 'windsor_centroid': [0]})"
   ]
  },
  {
   "cell_type": "code",
   "execution_count": 79,
   "metadata": {},
   "outputs": [],
   "source": [
    "for f in s.keys():\n",
    "    x = {fc : 0 for fc in s.keys()}\n",
    "    x[f] = 1\n",
    "    ranking = normalized_ranking(s, fc_weights=x, dim_weights={10: 1, 50: 1, 100: 1})\n",
    "    ranking['fun_name'] = f\n",
    "    fun = fun._append(ranking, ignore_index=True)"
   ]
  },
  {
   "cell_type": "code",
   "execution_count": 81,
   "metadata": {},
   "outputs": [],
   "source": [
    "fun.to_csv('fc_rank.csv')"
   ]
  },
  {
   "cell_type": "code",
   "execution_count": 83,
   "metadata": {},
   "outputs": [],
   "source": [
    "dim = pd.DataFrame({'dimension': [0], 'vanila_centroid': [0], 'mean_centroid': [0], 'median_centroid': [0], 'interquartile_centroid': [0], 'windsor_centroid': [0]})"
   ]
  },
  {
   "cell_type": "code",
   "execution_count": 84,
   "metadata": {},
   "outputs": [],
   "source": [
    "for d in [10, 50, 100]:\n",
    "    x = {fc : 0 for fc in [10, 50, 100]}\n",
    "    x[d] = 1\n",
    "    ranking = normalized_ranking(s, dim_weights=x)\n",
    "    ranking['dimension'] = d\n",
    "    dim = dim._append(ranking, ignore_index=True)"
   ]
  },
  {
   "cell_type": "code",
   "execution_count": 86,
   "metadata": {},
   "outputs": [],
   "source": [
    "dim.to_csv('dim_rank.csv')"
   ]
  }
 ],
 "metadata": {
  "kernelspec": {
   "display_name": "bowel",
   "language": "python",
   "name": "python3"
  },
  "language_info": {
   "codemirror_mode": {
    "name": "ipython",
    "version": 3
   },
   "file_extension": ".py",
   "mimetype": "text/x-python",
   "name": "python",
   "nbconvert_exporter": "python",
   "pygments_lexer": "ipython3",
   "version": "3.10.13"
  }
 },
 "nbformat": 4,
 "nbformat_minor": 2
}
